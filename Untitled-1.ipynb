{
 "cells": [
  {
   "cell_type": "code",
   "execution_count": 1,
   "metadata": {},
   "outputs": [],
   "source": [
    "import pandas as pd\n",
    "import pickle\n",
    "import plotly.graph_objects as go"
   ]
  },
  {
   "cell_type": "code",
   "execution_count": null,
   "metadata": {},
   "outputs": [],
   "source": [
    "from app_dataframe import df_hom\n",
    "df = df_hom[['fecha','can"
   ]
  },
  {
   "cell_type": "code",
   "execution_count": 21,
   "metadata": {},
   "outputs": [],
   "source": [
    "\n",
    "#change city\n",
    "city = \"TOTAL\"\n",
    "if city == 'MEDELLÍN':\n",
    "    df_fitted = pd.read_excel('data/pred_tot.xlsx')\n",
    "elif city == 'BOGOTÁ, D.C.':\n",
    "    df_fitted = pd.read_excel('data/pred_tot.xlsx')\n",
    "elif city == 'CALI':\n",
    "    df_fitted = pd.read_excel('data/pred_tot.xlsx')\n",
    "else:\n",
    "    df_fitted = pd.read_excel('data/pred_tot.xlsx')\n",
    "\n",
    "df_fitted.columns = ['index','fecha','total','lower','upper']\n",
    "df_fitted = df_fitted.drop(columns='index')\n"
   ]
  },
  {
   "cell_type": "code",
   "execution_count": 22,
   "metadata": {},
   "outputs": [
    {
     "data": {
      "text/html": [
       "<div>\n",
       "<style scoped>\n",
       "    .dataframe tbody tr th:only-of-type {\n",
       "        vertical-align: middle;\n",
       "    }\n",
       "\n",
       "    .dataframe tbody tr th {\n",
       "        vertical-align: top;\n",
       "    }\n",
       "\n",
       "    .dataframe thead th {\n",
       "        text-align: right;\n",
       "    }\n",
       "</style>\n",
       "<table border=\"1\" class=\"dataframe\">\n",
       "  <thead>\n",
       "    <tr style=\"text-align: right;\">\n",
       "      <th></th>\n",
       "      <th>fecha</th>\n",
       "      <th>total</th>\n",
       "      <th>lower</th>\n",
       "      <th>upper</th>\n",
       "    </tr>\n",
       "  </thead>\n",
       "  <tbody>\n",
       "    <tr>\n",
       "      <th>0</th>\n",
       "      <td>2022-01-01</td>\n",
       "      <td>505.885572</td>\n",
       "      <td>393.674144</td>\n",
       "      <td>618.096999</td>\n",
       "    </tr>\n",
       "    <tr>\n",
       "      <th>1</th>\n",
       "      <td>2022-02-01</td>\n",
       "      <td>436.962499</td>\n",
       "      <td>307.917719</td>\n",
       "      <td>566.007279</td>\n",
       "    </tr>\n",
       "    <tr>\n",
       "      <th>2</th>\n",
       "      <td>2022-03-01</td>\n",
       "      <td>458.477545</td>\n",
       "      <td>327.468283</td>\n",
       "      <td>589.486807</td>\n",
       "    </tr>\n",
       "    <tr>\n",
       "      <th>3</th>\n",
       "      <td>2022-04-01</td>\n",
       "      <td>406.590616</td>\n",
       "      <td>268.127232</td>\n",
       "      <td>545.054001</td>\n",
       "    </tr>\n",
       "    <tr>\n",
       "      <th>4</th>\n",
       "      <td>2022-05-01</td>\n",
       "      <td>578.098355</td>\n",
       "      <td>437.146980</td>\n",
       "      <td>719.049730</td>\n",
       "    </tr>\n",
       "  </tbody>\n",
       "</table>\n",
       "</div>"
      ],
      "text/plain": [
       "       fecha       total       lower       upper\n",
       "0 2022-01-01  505.885572  393.674144  618.096999\n",
       "1 2022-02-01  436.962499  307.917719  566.007279\n",
       "2 2022-03-01  458.477545  327.468283  589.486807\n",
       "3 2022-04-01  406.590616  268.127232  545.054001\n",
       "4 2022-05-01  578.098355  437.146980  719.049730"
      ]
     },
     "execution_count": 22,
     "metadata": {},
     "output_type": "execute_result"
    }
   ],
   "source": [
    "df.head()"
   ]
  },
  {
   "cell_type": "code",
   "execution_count": 23,
   "metadata": {},
   "outputs": [
    {
     "data": {
      "text/html": [
       "<div>\n",
       "<style scoped>\n",
       "    .dataframe tbody tr th:only-of-type {\n",
       "        vertical-align: middle;\n",
       "    }\n",
       "\n",
       "    .dataframe tbody tr th {\n",
       "        vertical-align: top;\n",
       "    }\n",
       "\n",
       "    .dataframe thead th {\n",
       "        text-align: right;\n",
       "    }\n",
       "</style>\n",
       "<table border=\"1\" class=\"dataframe\">\n",
       "  <thead>\n",
       "    <tr style=\"text-align: right;\">\n",
       "      <th></th>\n",
       "      <th>total</th>\n",
       "      <th>lower</th>\n",
       "      <th>upper</th>\n",
       "      <th>month_index</th>\n",
       "    </tr>\n",
       "    <tr>\n",
       "      <th>fecha</th>\n",
       "      <th></th>\n",
       "      <th></th>\n",
       "      <th></th>\n",
       "      <th></th>\n",
       "    </tr>\n",
       "  </thead>\n",
       "  <tbody>\n",
       "    <tr>\n",
       "      <th>2022-01-31</th>\n",
       "      <td>505.885572</td>\n",
       "      <td>393.674144</td>\n",
       "      <td>618.096999</td>\n",
       "      <td>1</td>\n",
       "    </tr>\n",
       "    <tr>\n",
       "      <th>2022-02-28</th>\n",
       "      <td>436.962499</td>\n",
       "      <td>307.917719</td>\n",
       "      <td>566.007279</td>\n",
       "      <td>2</td>\n",
       "    </tr>\n",
       "    <tr>\n",
       "      <th>2022-03-31</th>\n",
       "      <td>458.477545</td>\n",
       "      <td>327.468283</td>\n",
       "      <td>589.486807</td>\n",
       "      <td>3</td>\n",
       "    </tr>\n",
       "    <tr>\n",
       "      <th>2022-04-30</th>\n",
       "      <td>406.590616</td>\n",
       "      <td>268.127232</td>\n",
       "      <td>545.054001</td>\n",
       "      <td>4</td>\n",
       "    </tr>\n",
       "    <tr>\n",
       "      <th>2022-05-31</th>\n",
       "      <td>578.098355</td>\n",
       "      <td>437.146980</td>\n",
       "      <td>719.049730</td>\n",
       "      <td>5</td>\n",
       "    </tr>\n",
       "  </tbody>\n",
       "</table>\n",
       "</div>"
      ],
      "text/plain": [
       "                 total       lower       upper  month_index\n",
       "fecha                                                      \n",
       "2022-01-31  505.885572  393.674144  618.096999            1\n",
       "2022-02-28  436.962499  307.917719  566.007279            2\n",
       "2022-03-31  458.477545  327.468283  589.486807            3\n",
       "2022-04-30  406.590616  268.127232  545.054001            4\n",
       "2022-05-31  578.098355  437.146980  719.049730            5"
      ]
     },
     "execution_count": 23,
     "metadata": {},
     "output_type": "execute_result"
    }
   ],
   "source": [
    "\n",
    "df = df.set_index('fecha')\n",
    "df = df.resample('M').sum()\n",
    "df['month_index'] = df.index.month\n",
    "df.head()"
   ]
  },
  {
   "cell_type": "code",
   "execution_count": null,
   "metadata": {},
   "outputs": [],
   "source": [
    "\n",
    "#make figure\n",
    "fig2 = go.Figure()\n",
    "fig2.add_trace(go.Scatter(x=df['fecha'], y=df['total'],\n",
    "                    #mode='lines',\n",
    "                    name='original'))\n",
    "fig2.add_trace(go.Scatter(x=df['fecha'], y=df['total'],\n",
    "                    #mode='lines',\n",
    "                    name='fitted'))\n",
    "fig2.add_trace(go.Scatter(x=upper_series['fecha'], y=upper_series['total'],\n",
    "                    #mode='lines',\n",
    "                    name='upper_series',\n",
    "                    line_color='rgba(200,200,200,0.2)',\n",
    "                    showlegend=False,))\n",
    "fig2.add_trace(go.Scatter(x=lower_series['fecha'], y=lower_series['total'],\n",
    "                    #mode='lines',\n",
    "                    name='lower',\n",
    "                    fill='tonexty',\n",
    "                    line_color='rgba(200,200,200,0.2)',\n",
    "                    showlegend=False,))\n",
    "fig2.update_layout(\n",
    "    showlegend=False,\n",
    "    title_text='Forecasting homicides in '+city,\n",
    "    xaxis_title='Date',\n",
    "    yaxis_title='Homicides',\n",
    "    )\n",
    "fig2.update_traces(mode='lines')\n",
    "fig2.show()"
   ]
  },
  {
   "cell_type": "code",
   "execution_count": null,
   "metadata": {},
   "outputs": [],
   "source": []
  }
 ],
 "metadata": {
  "kernelspec": {
   "display_name": "Python 3.9.7 ('base')",
   "language": "python",
   "name": "python3"
  },
  "language_info": {
   "codemirror_mode": {
    "name": "ipython",
    "version": 3
   },
   "file_extension": ".py",
   "mimetype": "text/x-python",
   "name": "python",
   "nbconvert_exporter": "python",
   "pygments_lexer": "ipython3",
   "version": "3.9.7"
  },
  "orig_nbformat": 4,
  "vscode": {
   "interpreter": {
    "hash": "be264aba634c43a67dbd15b0f88142796a315530c35730ce3170396a7ce949e9"
   }
  }
 },
 "nbformat": 4,
 "nbformat_minor": 2
}
